{
 "cells": [
  {
   "cell_type": "code",
   "execution_count": 3,
   "metadata": {},
   "outputs": [
    {
     "data": {
      "text/plain": [
       "'c:\\\\Users\\\\y0vwts9\\\\OneDrive - Deere & Co\\\\Y0VWTS9\\\\Python\\\\Deep_Learning\\\\NLP\\\\PWSKILLS\\\\Text_Summarizer\\\\research'"
      ]
     },
     "execution_count": 3,
     "metadata": {},
     "output_type": "execute_result"
    }
   ],
   "source": [
    "import os\n",
    "%pwd"
   ]
  },
  {
   "cell_type": "code",
   "execution_count": 5,
   "metadata": {},
   "outputs": [
    {
     "data": {
      "text/plain": [
       "'c:\\\\Users\\\\y0vwts9\\\\OneDrive - Deere & Co\\\\Y0VWTS9\\\\Python\\\\Deep_Learning\\\\NLP\\\\PWSKILLS\\\\Text_Summarizer'"
      ]
     },
     "execution_count": 5,
     "metadata": {},
     "output_type": "execute_result"
    }
   ],
   "source": [
    "os.chdir(\"../\")     #to get back one folder\n",
    "%pwd"
   ]
  },
  {
   "cell_type": "code",
   "execution_count": 7,
   "metadata": {},
   "outputs": [],
   "source": [
    "## Create Entity (Custom return type of any class)\n",
    "\n",
    "from dataclasses import dataclass\n",
    "from pathlib import Path\n",
    "\n",
    "@dataclass(frozen=True)\n",
    "class DataIngestionConfig:\n",
    "    root_dir: Path\n",
    "    source_URL: str\n",
    "    local_data_file: Path\n",
    "    unzip_dir: Path"
   ]
  },
  {
   "cell_type": "code",
   "execution_count": 27,
   "metadata": {},
   "outputs": [],
   "source": [
    "## Update Config manager\n",
    "\n",
    "from src.TextSummarizer.constants import *\n",
    "from src.TextSummarizer.utils.common import read_yaml, create_directories\n",
    "\n",
    "class ConfigurationManager:\n",
    "    def __init__(self,\n",
    "        config_filepath = CONFIG_FILE_PATH,\n",
    "        params_filepath = PARAMS_FILE_PATH):\n",
    "\n",
    "        self.config = read_yaml(config_filepath)\n",
    "        self.params = read_yaml(params_filepath)\n",
    "\n",
    "        # create_directories([self.config.artifacts_root])   #you can call .artifacts_root due to ConfigBox used in read.yaml fucntion\n",
    "        create_directories([read_yaml(CONFIG_FILE_PATH).artifacts_root])\n",
    "\n",
    "    def get_data_ingestion_config(self) -> DataIngestionConfig:\n",
    "            config = self.config.data_ingestion\n",
    "\n",
    "            create_directories([config.root_dir])\n",
    "\n",
    "            data_ingestion_config = DataIngestionConfig(\n",
    "                    root_dir = config.root_dir,\n",
    "                    source_URL = config.source_URL,\n",
    "                    local_data_file = config.local_data_file,\n",
    "                    unzip_dir = config.unzip_dir\n",
    "            )\n",
    "            \n",
    "            return data_ingestion_config\n",
    "\n"
   ]
  },
  {
   "cell_type": "code",
   "execution_count": 41,
   "metadata": {},
   "outputs": [
    {
     "ename": "ImportError",
     "evalue": "cannot import name 'request' from 'urllib.request' (c:\\Users\\y0vwts9\\AppData\\Local\\anaconda3\\envs\\TextS\\lib\\urllib\\request.py)",
     "output_type": "error",
     "traceback": [
      "\u001b[1;31m---------------------------------------------------------------------------\u001b[0m",
      "\u001b[1;31mImportError\u001b[0m                               Traceback (most recent call last)",
      "\u001b[1;32mc:\\Users\\y0vwts9\\OneDrive - Deere & Co\\Y0VWTS9\\Python\\Deep_Learning\\NLP\\PWSKILLS\\Text_Summarizer\\research\\01_Data_Ingestion.ipynb Cell 5\u001b[0m line \u001b[0;36m4\n\u001b[0;32m      <a href='vscode-notebook-cell:/c%3A/Users/y0vwts9/OneDrive%20-%20Deere%20%26%20Co/Y0VWTS9/Python/Deep_Learning/NLP/PWSKILLS/Text_Summarizer/research/01_Data_Ingestion.ipynb#W6sZmlsZQ%3D%3D?line=0'>1</a>\u001b[0m \u001b[39m## Create components\u001b[39;00m\n\u001b[0;32m      <a href='vscode-notebook-cell:/c%3A/Users/y0vwts9/OneDrive%20-%20Deere%20%26%20Co/Y0VWTS9/Python/Deep_Learning/NLP/PWSKILLS/Text_Summarizer/research/01_Data_Ingestion.ipynb#W6sZmlsZQ%3D%3D?line=2'>3</a>\u001b[0m \u001b[39mimport\u001b[39;00m \u001b[39mos\u001b[39;00m\n\u001b[1;32m----> <a href='vscode-notebook-cell:/c%3A/Users/y0vwts9/OneDrive%20-%20Deere%20%26%20Co/Y0VWTS9/Python/Deep_Learning/NLP/PWSKILLS/Text_Summarizer/research/01_Data_Ingestion.ipynb#W6sZmlsZQ%3D%3D?line=3'>4</a>\u001b[0m \u001b[39mfrom\u001b[39;00m \u001b[39murllib\u001b[39;00m\u001b[39m.\u001b[39;00m\u001b[39mrequest\u001b[39;00m \u001b[39mimport\u001b[39;00m request\n\u001b[0;32m      <a href='vscode-notebook-cell:/c%3A/Users/y0vwts9/OneDrive%20-%20Deere%20%26%20Co/Y0VWTS9/Python/Deep_Learning/NLP/PWSKILLS/Text_Summarizer/research/01_Data_Ingestion.ipynb#W6sZmlsZQ%3D%3D?line=4'>5</a>\u001b[0m \u001b[39mimport\u001b[39;00m \u001b[39mzipfile\u001b[39;00m      \u001b[39m#for unziping files\u001b[39;00m\n\u001b[0;32m      <a href='vscode-notebook-cell:/c%3A/Users/y0vwts9/OneDrive%20-%20Deere%20%26%20Co/Y0VWTS9/Python/Deep_Learning/NLP/PWSKILLS/Text_Summarizer/research/01_Data_Ingestion.ipynb#W6sZmlsZQ%3D%3D?line=5'>6</a>\u001b[0m \u001b[39mfrom\u001b[39;00m \u001b[39mTextSummarizer\u001b[39;00m\u001b[39m.\u001b[39;00m\u001b[39mlogging\u001b[39;00m \u001b[39mimport\u001b[39;00m logger\n",
      "\u001b[1;31mImportError\u001b[0m: cannot import name 'request' from 'urllib.request' (c:\\Users\\y0vwts9\\AppData\\Local\\anaconda3\\envs\\TextS\\lib\\urllib\\request.py)"
     ]
    }
   ],
   "source": [
    "## Create components\n",
    "\n",
    "import os\n",
    "from urllib.request import request\n",
    "import zipfile      #for unziping files\n",
    "from TextSummarizer.logging import logger\n",
    "from TextSummarizer.utils.common import get_size\n",
    "\n",
    "class DataIngestion:\n",
    "    def __init__(self, config: DataIngestionConfig):\n",
    "        self.config = config\n",
    "\n",
    "    def download_file(self):\n",
    "        if not os.path.exists(self.config.local_data_file):\n",
    "            filename, headers = request.urlretrieve(\n",
    "                url = self.config.source_URL,\n",
    "                filename = self.config.local_data_file\n",
    "            )\n",
    "            logger.info(f\"{filename} download! with following info: \\n{headers}\")\n",
    "        else:\n",
    "            logger.info(f\"file already exists of size: {get_size(self.config.local_data_file)}\")\n",
    "    \n",
    "    def extract_zip_file(self):\n",
    "        \"\"\" \n",
    "        zip_file_path: str\n",
    "        Extrcats the zip fiel into the data directory\n",
    "        Function returns None\n",
    "        \"\"\"\n",
    "        unzip_path = self.config.unzip_dir\n",
    "        os.makedirs(unzip_path,exist_ok=True)\n",
    "        with zipfile.ZipFile(self.config.local_data_file, \"r\") as zip_ref:\n",
    "            zip_ref.extractall(unzip_path)"
   ]
  },
  {
   "cell_type": "code",
   "execution_count": 48,
   "metadata": {},
   "outputs": [
    {
     "data": {
      "text/plain": [
       "('artifacts/data_ingestion/data1.zip',\n",
       " <http.client.HTTPMessage at 0x1edc1da5160>)"
      ]
     },
     "execution_count": 48,
     "metadata": {},
     "output_type": "execute_result"
    }
   ],
   "source": [
    "# from urllib import request\n",
    "# urllib.request.urlretrieve(\n",
    "#                 url = \"https://github.com/FUZZZZI/Dump1/blob/main/data.zip\",\n",
    "#                 filename = \"artifacts/data_ingestion/data1.zip\"\n",
    "#             )"
   ]
  },
  {
   "cell_type": "code",
   "execution_count": 40,
   "metadata": {},
   "outputs": [
    {
     "name": "stdout",
     "output_type": "stream",
     "text": [
      "[2023-10-29 23:34:05,926: INFO: common: yaml file: config\\config.yaml loaded successfully]\n",
      "[2023-10-29 23:34:05,931: INFO: common: yaml file: params.yaml loaded successfully]\n",
      "[2023-10-29 23:34:05,935: INFO: common: yaml file: config\\config.yaml loaded successfully]\n",
      "[2023-10-29 23:34:05,935: INFO: common: Created directory at: artifacts]\n",
      "[2023-10-29 23:34:05,939: INFO: common: Created directory at: artifacts/data_ingestion]\n",
      "[2023-10-29 23:34:05,942: INFO: 1271050681: file already exists]\n"
     ]
    }
   ],
   "source": [
    "## create Pipeline\n",
    "\n",
    "try:\n",
    "    config = ConfigurationManager()\n",
    "    data_ingestion_config = config.get_data_ingestion_config()\n",
    "    data_ingestion = DataIngestion(config = data_ingestion_config)\n",
    "    data_ingestion.download_file()\n",
    "    data_ingestion.extract_zip_file()\n",
    "\n",
    "except Exception as e:\n",
    "    raise e"
   ]
  },
  {
   "cell_type": "code",
   "execution_count": null,
   "metadata": {},
   "outputs": [],
   "source": []
  }
 ],
 "metadata": {
  "kernelspec": {
   "display_name": "TextS",
   "language": "python",
   "name": "python3"
  },
  "language_info": {
   "codemirror_mode": {
    "name": "ipython",
    "version": 3
   },
   "file_extension": ".py",
   "mimetype": "text/x-python",
   "name": "python",
   "nbconvert_exporter": "python",
   "pygments_lexer": "ipython3",
   "version": "3.8.18"
  }
 },
 "nbformat": 4,
 "nbformat_minor": 2
}
